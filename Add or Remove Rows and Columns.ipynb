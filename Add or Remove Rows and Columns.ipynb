{
 "cells": [
  {
   "cell_type": "code",
   "execution_count": 1,
   "metadata": {},
   "outputs": [],
   "source": [
    "import pandas as pd\n",
    "df = pd.read_csv('data/survey_results_public.csv', index_col='Respondent')\n",
    "schema_df = pd.read_csv('data/survey_results_schema.csv', index_col='Column')\n",
    "\n",
    "dict_data = {\n",
    "    'first': ['kaushal', 'pinkal', 'ananya', 'kartavya'],\n",
    "    'last': ['khokhar', 'khokhar', 'patel', 'patel'],\n",
    "    'email':['kaushal.123@gmail.com', 'pinal.123@gmail.com', 'anu.123@gmail.com', 'kartu.123@gmail.com']\n",
    "}\n",
    "\n",
    "dict_to_df = pd.DataFrame(dict_data)"
   ]
  },
  {
   "cell_type": "code",
   "execution_count": 2,
   "metadata": {},
   "outputs": [],
   "source": [
    "# Adding Columns\n",
    "dict_to_df['fullname'] = dict_to_df['first'] + ' ' + dict_to_df['last']"
   ]
  },
  {
   "cell_type": "code",
   "execution_count": 3,
   "metadata": {},
   "outputs": [
    {
     "data": {
      "text/html": [
       "<div>\n",
       "<style scoped>\n",
       "    .dataframe tbody tr th:only-of-type {\n",
       "        vertical-align: middle;\n",
       "    }\n",
       "\n",
       "    .dataframe tbody tr th {\n",
       "        vertical-align: top;\n",
       "    }\n",
       "\n",
       "    .dataframe thead th {\n",
       "        text-align: right;\n",
       "    }\n",
       "</style>\n",
       "<table border=\"1\" class=\"dataframe\">\n",
       "  <thead>\n",
       "    <tr style=\"text-align: right;\">\n",
       "      <th></th>\n",
       "      <th>first</th>\n",
       "      <th>last</th>\n",
       "      <th>email</th>\n",
       "      <th>fullname</th>\n",
       "    </tr>\n",
       "  </thead>\n",
       "  <tbody>\n",
       "    <tr>\n",
       "      <th>0</th>\n",
       "      <td>kaushal</td>\n",
       "      <td>khokhar</td>\n",
       "      <td>kaushal.123@gmail.com</td>\n",
       "      <td>kaushal khokhar</td>\n",
       "    </tr>\n",
       "    <tr>\n",
       "      <th>1</th>\n",
       "      <td>pinkal</td>\n",
       "      <td>khokhar</td>\n",
       "      <td>pinal.123@gmail.com</td>\n",
       "      <td>pinkal khokhar</td>\n",
       "    </tr>\n",
       "    <tr>\n",
       "      <th>2</th>\n",
       "      <td>ananya</td>\n",
       "      <td>patel</td>\n",
       "      <td>anu.123@gmail.com</td>\n",
       "      <td>ananya patel</td>\n",
       "    </tr>\n",
       "    <tr>\n",
       "      <th>3</th>\n",
       "      <td>kartavya</td>\n",
       "      <td>patel</td>\n",
       "      <td>kartu.123@gmail.com</td>\n",
       "      <td>kartavya patel</td>\n",
       "    </tr>\n",
       "  </tbody>\n",
       "</table>\n",
       "</div>"
      ],
      "text/plain": [
       "      first     last                  email         fullname\n",
       "0   kaushal  khokhar  kaushal.123@gmail.com  kaushal khokhar\n",
       "1    pinkal  khokhar    pinal.123@gmail.com   pinkal khokhar\n",
       "2    ananya    patel      anu.123@gmail.com     ananya patel\n",
       "3  kartavya    patel    kartu.123@gmail.com   kartavya patel"
      ]
     },
     "execution_count": 3,
     "metadata": {},
     "output_type": "execute_result"
    }
   ],
   "source": [
    "dict_to_df"
   ]
  },
  {
   "cell_type": "code",
   "execution_count": 4,
   "metadata": {},
   "outputs": [],
   "source": [
    "# Removing Columns\n",
    "dict_to_df.drop(columns=['first', 'last'], inplace=True)"
   ]
  },
  {
   "cell_type": "code",
   "execution_count": 5,
   "metadata": {},
   "outputs": [
    {
     "data": {
      "text/html": [
       "<div>\n",
       "<style scoped>\n",
       "    .dataframe tbody tr th:only-of-type {\n",
       "        vertical-align: middle;\n",
       "    }\n",
       "\n",
       "    .dataframe tbody tr th {\n",
       "        vertical-align: top;\n",
       "    }\n",
       "\n",
       "    .dataframe thead th {\n",
       "        text-align: right;\n",
       "    }\n",
       "</style>\n",
       "<table border=\"1\" class=\"dataframe\">\n",
       "  <thead>\n",
       "    <tr style=\"text-align: right;\">\n",
       "      <th></th>\n",
       "      <th>email</th>\n",
       "      <th>fullname</th>\n",
       "    </tr>\n",
       "  </thead>\n",
       "  <tbody>\n",
       "    <tr>\n",
       "      <th>0</th>\n",
       "      <td>kaushal.123@gmail.com</td>\n",
       "      <td>kaushal khokhar</td>\n",
       "    </tr>\n",
       "    <tr>\n",
       "      <th>1</th>\n",
       "      <td>pinal.123@gmail.com</td>\n",
       "      <td>pinkal khokhar</td>\n",
       "    </tr>\n",
       "    <tr>\n",
       "      <th>2</th>\n",
       "      <td>anu.123@gmail.com</td>\n",
       "      <td>ananya patel</td>\n",
       "    </tr>\n",
       "    <tr>\n",
       "      <th>3</th>\n",
       "      <td>kartu.123@gmail.com</td>\n",
       "      <td>kartavya patel</td>\n",
       "    </tr>\n",
       "  </tbody>\n",
       "</table>\n",
       "</div>"
      ],
      "text/plain": [
       "                   email         fullname\n",
       "0  kaushal.123@gmail.com  kaushal khokhar\n",
       "1    pinal.123@gmail.com   pinkal khokhar\n",
       "2      anu.123@gmail.com     ananya patel\n",
       "3    kartu.123@gmail.com   kartavya patel"
      ]
     },
     "execution_count": 5,
     "metadata": {},
     "output_type": "execute_result"
    }
   ],
   "source": [
    "dict_to_df"
   ]
  },
  {
   "cell_type": "code",
   "execution_count": 6,
   "metadata": {},
   "outputs": [
    {
     "data": {
      "text/html": [
       "<div>\n",
       "<style scoped>\n",
       "    .dataframe tbody tr th:only-of-type {\n",
       "        vertical-align: middle;\n",
       "    }\n",
       "\n",
       "    .dataframe tbody tr th {\n",
       "        vertical-align: top;\n",
       "    }\n",
       "\n",
       "    .dataframe thead th {\n",
       "        text-align: right;\n",
       "    }\n",
       "</style>\n",
       "<table border=\"1\" class=\"dataframe\">\n",
       "  <thead>\n",
       "    <tr style=\"text-align: right;\">\n",
       "      <th></th>\n",
       "      <th>0</th>\n",
       "      <th>1</th>\n",
       "    </tr>\n",
       "  </thead>\n",
       "  <tbody>\n",
       "    <tr>\n",
       "      <th>0</th>\n",
       "      <td>kaushal</td>\n",
       "      <td>khokhar</td>\n",
       "    </tr>\n",
       "    <tr>\n",
       "      <th>1</th>\n",
       "      <td>pinkal</td>\n",
       "      <td>khokhar</td>\n",
       "    </tr>\n",
       "    <tr>\n",
       "      <th>2</th>\n",
       "      <td>ananya</td>\n",
       "      <td>patel</td>\n",
       "    </tr>\n",
       "    <tr>\n",
       "      <th>3</th>\n",
       "      <td>kartavya</td>\n",
       "      <td>patel</td>\n",
       "    </tr>\n",
       "  </tbody>\n",
       "</table>\n",
       "</div>"
      ],
      "text/plain": [
       "          0        1\n",
       "0   kaushal  khokhar\n",
       "1    pinkal  khokhar\n",
       "2    ananya    patel\n",
       "3  kartavya    patel"
      ]
     },
     "execution_count": 6,
     "metadata": {},
     "output_type": "execute_result"
    }
   ],
   "source": [
    "dict_to_df['fullname'].str.split(' ', expand=True)"
   ]
  },
  {
   "cell_type": "code",
   "execution_count": 7,
   "metadata": {},
   "outputs": [],
   "source": [
    "dict_to_df[['first', 'last']] = dict_to_df['fullname'].str.split(' ', expand=True)"
   ]
  },
  {
   "cell_type": "code",
   "execution_count": 8,
   "metadata": {},
   "outputs": [
    {
     "data": {
      "text/html": [
       "<div>\n",
       "<style scoped>\n",
       "    .dataframe tbody tr th:only-of-type {\n",
       "        vertical-align: middle;\n",
       "    }\n",
       "\n",
       "    .dataframe tbody tr th {\n",
       "        vertical-align: top;\n",
       "    }\n",
       "\n",
       "    .dataframe thead th {\n",
       "        text-align: right;\n",
       "    }\n",
       "</style>\n",
       "<table border=\"1\" class=\"dataframe\">\n",
       "  <thead>\n",
       "    <tr style=\"text-align: right;\">\n",
       "      <th></th>\n",
       "      <th>email</th>\n",
       "      <th>fullname</th>\n",
       "      <th>first</th>\n",
       "      <th>last</th>\n",
       "    </tr>\n",
       "  </thead>\n",
       "  <tbody>\n",
       "    <tr>\n",
       "      <th>0</th>\n",
       "      <td>kaushal.123@gmail.com</td>\n",
       "      <td>kaushal khokhar</td>\n",
       "      <td>kaushal</td>\n",
       "      <td>khokhar</td>\n",
       "    </tr>\n",
       "    <tr>\n",
       "      <th>1</th>\n",
       "      <td>pinal.123@gmail.com</td>\n",
       "      <td>pinkal khokhar</td>\n",
       "      <td>pinkal</td>\n",
       "      <td>khokhar</td>\n",
       "    </tr>\n",
       "    <tr>\n",
       "      <th>2</th>\n",
       "      <td>anu.123@gmail.com</td>\n",
       "      <td>ananya patel</td>\n",
       "      <td>ananya</td>\n",
       "      <td>patel</td>\n",
       "    </tr>\n",
       "    <tr>\n",
       "      <th>3</th>\n",
       "      <td>kartu.123@gmail.com</td>\n",
       "      <td>kartavya patel</td>\n",
       "      <td>kartavya</td>\n",
       "      <td>patel</td>\n",
       "    </tr>\n",
       "  </tbody>\n",
       "</table>\n",
       "</div>"
      ],
      "text/plain": [
       "                   email         fullname     first     last\n",
       "0  kaushal.123@gmail.com  kaushal khokhar   kaushal  khokhar\n",
       "1    pinal.123@gmail.com   pinkal khokhar    pinkal  khokhar\n",
       "2      anu.123@gmail.com     ananya patel    ananya    patel\n",
       "3    kartu.123@gmail.com   kartavya patel  kartavya    patel"
      ]
     },
     "execution_count": 8,
     "metadata": {},
     "output_type": "execute_result"
    }
   ],
   "source": [
    "dict_to_df"
   ]
  },
  {
   "cell_type": "code",
   "execution_count": 9,
   "metadata": {},
   "outputs": [
    {
     "data": {
      "text/html": [
       "<div>\n",
       "<style scoped>\n",
       "    .dataframe tbody tr th:only-of-type {\n",
       "        vertical-align: middle;\n",
       "    }\n",
       "\n",
       "    .dataframe tbody tr th {\n",
       "        vertical-align: top;\n",
       "    }\n",
       "\n",
       "    .dataframe thead th {\n",
       "        text-align: right;\n",
       "    }\n",
       "</style>\n",
       "<table border=\"1\" class=\"dataframe\">\n",
       "  <thead>\n",
       "    <tr style=\"text-align: right;\">\n",
       "      <th></th>\n",
       "      <th>email</th>\n",
       "      <th>fullname</th>\n",
       "      <th>first</th>\n",
       "      <th>last</th>\n",
       "    </tr>\n",
       "  </thead>\n",
       "  <tbody>\n",
       "    <tr>\n",
       "      <th>0</th>\n",
       "      <td>kaushal.123@gmail.com</td>\n",
       "      <td>kaushal khokhar</td>\n",
       "      <td>kaushal</td>\n",
       "      <td>khokhar</td>\n",
       "    </tr>\n",
       "    <tr>\n",
       "      <th>1</th>\n",
       "      <td>pinal.123@gmail.com</td>\n",
       "      <td>pinkal khokhar</td>\n",
       "      <td>pinkal</td>\n",
       "      <td>khokhar</td>\n",
       "    </tr>\n",
       "    <tr>\n",
       "      <th>2</th>\n",
       "      <td>anu.123@gmail.com</td>\n",
       "      <td>ananya patel</td>\n",
       "      <td>ananya</td>\n",
       "      <td>patel</td>\n",
       "    </tr>\n",
       "    <tr>\n",
       "      <th>3</th>\n",
       "      <td>kartu.123@gmail.com</td>\n",
       "      <td>kartavya patel</td>\n",
       "      <td>kartavya</td>\n",
       "      <td>patel</td>\n",
       "    </tr>\n",
       "    <tr>\n",
       "      <th>4</th>\n",
       "      <td>NaN</td>\n",
       "      <td>NaN</td>\n",
       "      <td>pzpatel</td>\n",
       "      <td>NaN</td>\n",
       "    </tr>\n",
       "  </tbody>\n",
       "</table>\n",
       "</div>"
      ],
      "text/plain": [
       "                   email         fullname     first     last\n",
       "0  kaushal.123@gmail.com  kaushal khokhar   kaushal  khokhar\n",
       "1    pinal.123@gmail.com   pinkal khokhar    pinkal  khokhar\n",
       "2      anu.123@gmail.com     ananya patel    ananya    patel\n",
       "3    kartu.123@gmail.com   kartavya patel  kartavya    patel\n",
       "4                    NaN              NaN   pzpatel      NaN"
      ]
     },
     "execution_count": 9,
     "metadata": {},
     "output_type": "execute_result"
    }
   ],
   "source": [
    "# Adding/Removing Rows\n",
    "dict_to_df.append({'first': 'pzpatel'}, ignore_index=True)"
   ]
  },
  {
   "cell_type": "code",
   "execution_count": 10,
   "metadata": {},
   "outputs": [],
   "source": [
    "new_data = {\n",
    "    'first': ['jppatel', 'pzpatel'],\n",
    "    'last': ['khokhar', 'patel'],\n",
    "    'email':['jppatel;.123@gmail.com', 'pzpatel.123@gmail.com']\n",
    "}\n",
    "\n",
    "new_to_df = pd.DataFrame(new_data)"
   ]
  },
  {
   "cell_type": "code",
   "execution_count": 11,
   "metadata": {},
   "outputs": [
    {
     "data": {
      "text/html": [
       "<div>\n",
       "<style scoped>\n",
       "    .dataframe tbody tr th:only-of-type {\n",
       "        vertical-align: middle;\n",
       "    }\n",
       "\n",
       "    .dataframe tbody tr th {\n",
       "        vertical-align: top;\n",
       "    }\n",
       "\n",
       "    .dataframe thead th {\n",
       "        text-align: right;\n",
       "    }\n",
       "</style>\n",
       "<table border=\"1\" class=\"dataframe\">\n",
       "  <thead>\n",
       "    <tr style=\"text-align: right;\">\n",
       "      <th></th>\n",
       "      <th>first</th>\n",
       "      <th>last</th>\n",
       "      <th>email</th>\n",
       "    </tr>\n",
       "  </thead>\n",
       "  <tbody>\n",
       "    <tr>\n",
       "      <th>0</th>\n",
       "      <td>jppatel</td>\n",
       "      <td>khokhar</td>\n",
       "      <td>jppatel;.123@gmail.com</td>\n",
       "    </tr>\n",
       "    <tr>\n",
       "      <th>1</th>\n",
       "      <td>pzpatel</td>\n",
       "      <td>patel</td>\n",
       "      <td>pzpatel.123@gmail.com</td>\n",
       "    </tr>\n",
       "  </tbody>\n",
       "</table>\n",
       "</div>"
      ],
      "text/plain": [
       "     first     last                   email\n",
       "0  jppatel  khokhar  jppatel;.123@gmail.com\n",
       "1  pzpatel    patel   pzpatel.123@gmail.com"
      ]
     },
     "execution_count": 11,
     "metadata": {},
     "output_type": "execute_result"
    }
   ],
   "source": [
    "new_to_df"
   ]
  },
  {
   "cell_type": "code",
   "execution_count": 12,
   "metadata": {},
   "outputs": [
    {
     "data": {
      "text/html": [
       "<div>\n",
       "<style scoped>\n",
       "    .dataframe tbody tr th:only-of-type {\n",
       "        vertical-align: middle;\n",
       "    }\n",
       "\n",
       "    .dataframe tbody tr th {\n",
       "        vertical-align: top;\n",
       "    }\n",
       "\n",
       "    .dataframe thead th {\n",
       "        text-align: right;\n",
       "    }\n",
       "</style>\n",
       "<table border=\"1\" class=\"dataframe\">\n",
       "  <thead>\n",
       "    <tr style=\"text-align: right;\">\n",
       "      <th></th>\n",
       "      <th>email</th>\n",
       "      <th>fullname</th>\n",
       "      <th>first</th>\n",
       "      <th>last</th>\n",
       "    </tr>\n",
       "  </thead>\n",
       "  <tbody>\n",
       "    <tr>\n",
       "      <th>0</th>\n",
       "      <td>kaushal.123@gmail.com</td>\n",
       "      <td>kaushal khokhar</td>\n",
       "      <td>kaushal</td>\n",
       "      <td>khokhar</td>\n",
       "    </tr>\n",
       "    <tr>\n",
       "      <th>1</th>\n",
       "      <td>pinal.123@gmail.com</td>\n",
       "      <td>pinkal khokhar</td>\n",
       "      <td>pinkal</td>\n",
       "      <td>khokhar</td>\n",
       "    </tr>\n",
       "    <tr>\n",
       "      <th>2</th>\n",
       "      <td>anu.123@gmail.com</td>\n",
       "      <td>ananya patel</td>\n",
       "      <td>ananya</td>\n",
       "      <td>patel</td>\n",
       "    </tr>\n",
       "    <tr>\n",
       "      <th>3</th>\n",
       "      <td>kartu.123@gmail.com</td>\n",
       "      <td>kartavya patel</td>\n",
       "      <td>kartavya</td>\n",
       "      <td>patel</td>\n",
       "    </tr>\n",
       "    <tr>\n",
       "      <th>4</th>\n",
       "      <td>jppatel;.123@gmail.com</td>\n",
       "      <td>NaN</td>\n",
       "      <td>jppatel</td>\n",
       "      <td>khokhar</td>\n",
       "    </tr>\n",
       "    <tr>\n",
       "      <th>5</th>\n",
       "      <td>pzpatel.123@gmail.com</td>\n",
       "      <td>NaN</td>\n",
       "      <td>pzpatel</td>\n",
       "      <td>patel</td>\n",
       "    </tr>\n",
       "  </tbody>\n",
       "</table>\n",
       "</div>"
      ],
      "text/plain": [
       "                    email         fullname     first     last\n",
       "0   kaushal.123@gmail.com  kaushal khokhar   kaushal  khokhar\n",
       "1     pinal.123@gmail.com   pinkal khokhar    pinkal  khokhar\n",
       "2       anu.123@gmail.com     ananya patel    ananya    patel\n",
       "3     kartu.123@gmail.com   kartavya patel  kartavya    patel\n",
       "4  jppatel;.123@gmail.com              NaN   jppatel  khokhar\n",
       "5   pzpatel.123@gmail.com              NaN   pzpatel    patel"
      ]
     },
     "execution_count": 12,
     "metadata": {},
     "output_type": "execute_result"
    }
   ],
   "source": [
    "dict_to_df = dict_to_df.append(new_to_df, ignore_index=True)\n",
    "dict_to_df"
   ]
  },
  {
   "cell_type": "code",
   "execution_count": 15,
   "metadata": {},
   "outputs": [],
   "source": [
    "dict_to_df.drop(index=5, inplace=True)"
   ]
  },
  {
   "cell_type": "code",
   "execution_count": 17,
   "metadata": {},
   "outputs": [
    {
     "data": {
      "text/html": [
       "<div>\n",
       "<style scoped>\n",
       "    .dataframe tbody tr th:only-of-type {\n",
       "        vertical-align: middle;\n",
       "    }\n",
       "\n",
       "    .dataframe tbody tr th {\n",
       "        vertical-align: top;\n",
       "    }\n",
       "\n",
       "    .dataframe thead th {\n",
       "        text-align: right;\n",
       "    }\n",
       "</style>\n",
       "<table border=\"1\" class=\"dataframe\">\n",
       "  <thead>\n",
       "    <tr style=\"text-align: right;\">\n",
       "      <th></th>\n",
       "      <th>email</th>\n",
       "      <th>fullname</th>\n",
       "      <th>first</th>\n",
       "      <th>last</th>\n",
       "    </tr>\n",
       "  </thead>\n",
       "  <tbody>\n",
       "    <tr>\n",
       "      <th>0</th>\n",
       "      <td>kaushal.123@gmail.com</td>\n",
       "      <td>kaushal khokhar</td>\n",
       "      <td>kaushal</td>\n",
       "      <td>khokhar</td>\n",
       "    </tr>\n",
       "    <tr>\n",
       "      <th>1</th>\n",
       "      <td>pinal.123@gmail.com</td>\n",
       "      <td>pinkal khokhar</td>\n",
       "      <td>pinkal</td>\n",
       "      <td>khokhar</td>\n",
       "    </tr>\n",
       "    <tr>\n",
       "      <th>2</th>\n",
       "      <td>anu.123@gmail.com</td>\n",
       "      <td>ananya patel</td>\n",
       "      <td>ananya</td>\n",
       "      <td>patel</td>\n",
       "    </tr>\n",
       "    <tr>\n",
       "      <th>3</th>\n",
       "      <td>kartu.123@gmail.com</td>\n",
       "      <td>kartavya patel</td>\n",
       "      <td>kartavya</td>\n",
       "      <td>patel</td>\n",
       "    </tr>\n",
       "    <tr>\n",
       "      <th>4</th>\n",
       "      <td>jppatel;.123@gmail.com</td>\n",
       "      <td>NaN</td>\n",
       "      <td>jppatel</td>\n",
       "      <td>khokhar</td>\n",
       "    </tr>\n",
       "  </tbody>\n",
       "</table>\n",
       "</div>"
      ],
      "text/plain": [
       "                    email         fullname     first     last\n",
       "0   kaushal.123@gmail.com  kaushal khokhar   kaushal  khokhar\n",
       "1     pinal.123@gmail.com   pinkal khokhar    pinkal  khokhar\n",
       "2       anu.123@gmail.com     ananya patel    ananya    patel\n",
       "3     kartu.123@gmail.com   kartavya patel  kartavya    patel\n",
       "4  jppatel;.123@gmail.com              NaN   jppatel  khokhar"
      ]
     },
     "execution_count": 17,
     "metadata": {},
     "output_type": "execute_result"
    }
   ],
   "source": [
    "dict_to_df"
   ]
  },
  {
   "cell_type": "code",
   "execution_count": 19,
   "metadata": {},
   "outputs": [],
   "source": [
    "filtr = dict_to_df['last'] == 'patel'\n"
   ]
  },
  {
   "cell_type": "code",
   "execution_count": 21,
   "metadata": {},
   "outputs": [
    {
     "data": {
      "text/html": [
       "<div>\n",
       "<style scoped>\n",
       "    .dataframe tbody tr th:only-of-type {\n",
       "        vertical-align: middle;\n",
       "    }\n",
       "\n",
       "    .dataframe tbody tr th {\n",
       "        vertical-align: top;\n",
       "    }\n",
       "\n",
       "    .dataframe thead th {\n",
       "        text-align: right;\n",
       "    }\n",
       "</style>\n",
       "<table border=\"1\" class=\"dataframe\">\n",
       "  <thead>\n",
       "    <tr style=\"text-align: right;\">\n",
       "      <th></th>\n",
       "      <th>email</th>\n",
       "      <th>fullname</th>\n",
       "      <th>first</th>\n",
       "      <th>last</th>\n",
       "    </tr>\n",
       "  </thead>\n",
       "  <tbody>\n",
       "    <tr>\n",
       "      <th>0</th>\n",
       "      <td>kaushal.123@gmail.com</td>\n",
       "      <td>kaushal khokhar</td>\n",
       "      <td>kaushal</td>\n",
       "      <td>khokhar</td>\n",
       "    </tr>\n",
       "    <tr>\n",
       "      <th>1</th>\n",
       "      <td>pinal.123@gmail.com</td>\n",
       "      <td>pinkal khokhar</td>\n",
       "      <td>pinkal</td>\n",
       "      <td>khokhar</td>\n",
       "    </tr>\n",
       "    <tr>\n",
       "      <th>4</th>\n",
       "      <td>jppatel;.123@gmail.com</td>\n",
       "      <td>NaN</td>\n",
       "      <td>jppatel</td>\n",
       "      <td>khokhar</td>\n",
       "    </tr>\n",
       "  </tbody>\n",
       "</table>\n",
       "</div>"
      ],
      "text/plain": [
       "                    email         fullname    first     last\n",
       "0   kaushal.123@gmail.com  kaushal khokhar  kaushal  khokhar\n",
       "1     pinal.123@gmail.com   pinkal khokhar   pinkal  khokhar\n",
       "4  jppatel;.123@gmail.com              NaN  jppatel  khokhar"
      ]
     },
     "execution_count": 21,
     "metadata": {},
     "output_type": "execute_result"
    }
   ],
   "source": [
    "dict_to_df.drop(index=dict_to_df[filtr].index)"
   ]
  },
  {
   "cell_type": "code",
   "execution_count": null,
   "metadata": {},
   "outputs": [],
   "source": []
  }
 ],
 "metadata": {
  "kernelspec": {
   "display_name": "Python 3",
   "language": "python",
   "name": "python3"
  },
  "language_info": {
   "codemirror_mode": {
    "name": "ipython",
    "version": 3
   },
   "file_extension": ".py",
   "mimetype": "text/x-python",
   "name": "python",
   "nbconvert_exporter": "python",
   "pygments_lexer": "ipython3",
   "version": "3.6.5"
  }
 },
 "nbformat": 4,
 "nbformat_minor": 4
}
